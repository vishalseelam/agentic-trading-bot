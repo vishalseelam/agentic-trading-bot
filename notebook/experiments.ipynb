{
 "cells": [
  {
   "cell_type": "code",
   "execution_count": 9,
   "id": "45ab947f",
   "metadata": {},
   "outputs": [],
   "source": [
    "import sys"
   ]
  },
  {
   "cell_type": "code",
   "execution_count": 11,
   "id": "d015a6d5",
   "metadata": {},
   "outputs": [],
   "source": [
    "class TradingBotException(Exception):\n",
    "    def __init__(self):\n",
    "        print(\"this message from init\")\n",
    "        \n",
    "    def __str__(self):\n",
    "        print(\"this message from str\")\n",
    "        return \"\"\n",
    "        \n",
    "    def __repr__(self):\n",
    "        print(\"this message from repr\")\n",
    "        return \"\""
   ]
  },
  {
   "cell_type": "code",
   "execution_count": 12,
   "id": "9ffdfcb1",
   "metadata": {},
   "outputs": [
    {
     "name": "stdout",
     "output_type": "stream",
     "text": [
      "this message from init\n"
     ]
    }
   ],
   "source": [
    "obj=TradingBotException()"
   ]
  },
  {
   "cell_type": "code",
   "execution_count": 13,
   "id": "9f94c74d",
   "metadata": {},
   "outputs": [
    {
     "name": "stdout",
     "output_type": "stream",
     "text": [
      "this message from str\n",
      "\n"
     ]
    }
   ],
   "source": [
    "print(obj)"
   ]
  },
  {
   "cell_type": "code",
   "execution_count": 14,
   "id": "552b01af",
   "metadata": {},
   "outputs": [
    {
     "name": "stdout",
     "output_type": "stream",
     "text": [
      "this message from repr\n"
     ]
    },
    {
     "data": {
      "text/plain": []
     },
     "execution_count": 14,
     "metadata": {},
     "output_type": "execute_result"
    }
   ],
   "source": [
    "obj"
   ]
  },
  {
   "cell_type": "code",
   "execution_count": 15,
   "id": "221a1f09",
   "metadata": {},
   "outputs": [],
   "source": [
    "class TradingBotException(Exception):\n",
    "    def __init__(self,error_message,error_details_using_sys:sys):\n",
    "        \n",
    "        self.error_message = error_message\n",
    "        _,_,exc_tb = error_details_using_sys.exc_info()\n",
    "        \n",
    "        self.lineno=exc_tb.tb_lineno\n",
    "        self.file_name=exc_tb.tb_frame.f_code.co_filename \n",
    "    \n",
    "    def __str__(self):\n",
    "        return \"Error occured in python script name [{0}] line number [{1}] error message [{2}]\".format(\n",
    "        self.file_name, self.lineno, str(self.error_message))"
   ]
  },
  {
   "cell_type": "code",
   "execution_count": 23,
   "id": "81ff1e29",
   "metadata": {},
   "outputs": [],
   "source": [
    "\n",
    "def test(message):\n",
    "    print(\"add\"+message)\n",
    "    print(sys.exc_info())\n",
    "    #print(sys.exc_info())"
   ]
  },
  {
   "cell_type": "code",
   "execution_count": 24,
   "id": "d249ee04",
   "metadata": {},
   "outputs": [
    {
     "name": "stdout",
     "output_type": "stream",
     "text": [
      "addhi hi hi\n",
      "(None, None, None)\n"
     ]
    }
   ],
   "source": [
    "test(\"hi hi hi\")"
   ]
  },
  {
   "cell_type": "code",
   "execution_count": 25,
   "id": "239f8f7b",
   "metadata": {},
   "outputs": [
    {
     "ename": "NameError",
     "evalue": "name 'TradingBotException' is not defined",
     "output_type": "error",
     "traceback": [
      "\u001b[1;31m---------------------------------------------------------------------------\u001b[0m",
      "\u001b[1;31mTypeError\u001b[0m                                 Traceback (most recent call last)",
      "Cell \u001b[1;32mIn[25], line 2\u001b[0m\n\u001b[0;32m      1\u001b[0m \u001b[38;5;28;01mtry\u001b[39;00m:\n\u001b[1;32m----> 2\u001b[0m     \u001b[43mtest\u001b[49m\u001b[43m(\u001b[49m\u001b[38;5;241;43m2\u001b[39;49m\u001b[43m)\u001b[49m\n\u001b[0;32m      3\u001b[0m \u001b[38;5;28;01mexcept\u001b[39;00m \u001b[38;5;167;01mException\u001b[39;00m \u001b[38;5;28;01mas\u001b[39;00m e:\n",
      "Cell \u001b[1;32mIn[23], line 2\u001b[0m, in \u001b[0;36mtest\u001b[1;34m(message)\u001b[0m\n\u001b[0;32m      1\u001b[0m \u001b[38;5;28;01mdef\u001b[39;00m\u001b[38;5;250m \u001b[39m\u001b[38;5;21mtest\u001b[39m(message):\n\u001b[1;32m----> 2\u001b[0m     \u001b[38;5;28mprint\u001b[39m(\u001b[38;5;124;43m\"\u001b[39;49m\u001b[38;5;124;43madd\u001b[39;49m\u001b[38;5;124;43m\"\u001b[39;49m\u001b[38;5;241;43m+\u001b[39;49m\u001b[43mmessage\u001b[49m)\n\u001b[0;32m      3\u001b[0m     \u001b[38;5;28mprint\u001b[39m(sys\u001b[38;5;241m.\u001b[39mexc_info())\n",
      "\u001b[1;31mTypeError\u001b[0m: can only concatenate str (not \"int\") to str",
      "\nDuring handling of the above exception, another exception occurred:\n",
      "\u001b[1;31mNameError\u001b[0m                                 Traceback (most recent call last)",
      "Cell \u001b[1;32mIn[25], line 4\u001b[0m\n\u001b[0;32m      2\u001b[0m     test(\u001b[38;5;241m2\u001b[39m)\n\u001b[0;32m      3\u001b[0m \u001b[38;5;28;01mexcept\u001b[39;00m \u001b[38;5;167;01mException\u001b[39;00m \u001b[38;5;28;01mas\u001b[39;00m e:\n\u001b[1;32m----> 4\u001b[0m     \u001b[38;5;28;01mraise\u001b[39;00m \u001b[43mTradingBotException\u001b[49m(e,sys)\n",
      "\u001b[1;31mNameError\u001b[0m: name 'TradingBotException' is not defined"
     ]
    }
   ],
   "source": [
    "try:\n",
    "    test(2)\n",
    "except Exception as e:\n",
    "    raise TradingBotException(e,sys)"
   ]
  },
  {
   "cell_type": "code",
   "execution_count": 17,
   "id": "14be4fd0",
   "metadata": {},
   "outputs": [
    {
     "ename": "TradingBotException",
     "evalue": "Error occured in python script name [C:\\Users\\sunny\\AppData\\Local\\Temp\\ipykernel_57268\\3076653162.py] line number [2] error message [division by zero]",
     "output_type": "error",
     "traceback": [
      "\u001b[1;31m---------------------------------------------------------------------------\u001b[0m",
      "\u001b[1;31mZeroDivisionError\u001b[0m                         Traceback (most recent call last)",
      "Cell \u001b[1;32mIn[17], line 2\u001b[0m\n\u001b[0;32m      1\u001b[0m \u001b[38;5;28;01mtry\u001b[39;00m:\n\u001b[1;32m----> 2\u001b[0m     a\u001b[38;5;241m=\u001b[39m\u001b[38;5;241;43m1\u001b[39;49m\u001b[38;5;241;43m/\u001b[39;49m\u001b[38;5;241;43m0\u001b[39;49m\n\u001b[0;32m      3\u001b[0m     \u001b[38;5;28mprint\u001b[39m(\u001b[38;5;124m\"\u001b[39m\u001b[38;5;124mThis will not be printed\u001b[39m\u001b[38;5;124m\"\u001b[39m,a)\n",
      "\u001b[1;31mZeroDivisionError\u001b[0m: division by zero",
      "\nDuring handling of the above exception, another exception occurred:\n",
      "\u001b[1;31mTradingBotException\u001b[0m                       Traceback (most recent call last)",
      "Cell \u001b[1;32mIn[17], line 5\u001b[0m\n\u001b[0;32m      3\u001b[0m     \u001b[38;5;28mprint\u001b[39m(\u001b[38;5;124m\"\u001b[39m\u001b[38;5;124mThis will not be printed\u001b[39m\u001b[38;5;124m\"\u001b[39m,a)\n\u001b[0;32m      4\u001b[0m \u001b[38;5;28;01mexcept\u001b[39;00m \u001b[38;5;167;01mException\u001b[39;00m \u001b[38;5;28;01mas\u001b[39;00m e:\n\u001b[1;32m----> 5\u001b[0m     \u001b[38;5;28;01mraise\u001b[39;00m TradingBotException(e,sys)\n",
      "\u001b[1;31mTradingBotException\u001b[0m: Error occured in python script name [C:\\Users\\sunny\\AppData\\Local\\Temp\\ipykernel_57268\\3076653162.py] line number [2] error message [division by zero]"
     ]
    }
   ],
   "source": [
    "try:\n",
    "    a=1/0\n",
    "    print(\"This will not be printed\",a)\n",
    "except Exception as e:\n",
    "    raise TradingBotException(e,sys)"
   ]
  },
  {
   "cell_type": "code",
   "execution_count": 26,
   "id": "157ba661",
   "metadata": {},
   "outputs": [],
   "source": [
    "import logging\n",
    "import os\n",
    "from datetime import datetime"
   ]
  },
  {
   "cell_type": "code",
   "execution_count": 27,
   "id": "59c5f683",
   "metadata": {},
   "outputs": [],
   "source": [
    "LOG_FILE = f\"{datetime.now().strftime('%m_%d_%Y_%H_%M_%S')}.log\""
   ]
  },
  {
   "cell_type": "code",
   "execution_count": 28,
   "id": "ffda7bb3",
   "metadata": {},
   "outputs": [],
   "source": [
    "logs_path = os.path.join(os.getcwd(), \"logs\")"
   ]
  },
  {
   "cell_type": "code",
   "execution_count": 29,
   "id": "52d45b13",
   "metadata": {},
   "outputs": [],
   "source": [
    "os.makedirs(logs_path, exist_ok=True)"
   ]
  },
  {
   "cell_type": "code",
   "execution_count": 30,
   "id": "18a29f37",
   "metadata": {},
   "outputs": [],
   "source": [
    "LOG_FILE_PATH = os.path.join(logs_path, LOG_FILE)"
   ]
  },
  {
   "cell_type": "code",
   "execution_count": 31,
   "id": "c3156dea",
   "metadata": {},
   "outputs": [],
   "source": [
    "logger=logging.getLogger(\"my_agentic_app\")"
   ]
  },
  {
   "cell_type": "code",
   "execution_count": 32,
   "id": "44b3a286",
   "metadata": {},
   "outputs": [],
   "source": [
    "logging.basicConfig(\n",
    "    filename=LOG_FILE_PATH,\n",
    "    format=\"[ %(asctime)s ] %(lineno)d %(name)s - %(levelname)s - %(message)s\",\n",
    "    level=logging.INFO,\n",
    ")"
   ]
  },
  {
   "cell_type": "code",
   "execution_count": 33,
   "id": "b7b607e5",
   "metadata": {},
   "outputs": [],
   "source": [
    "logger.info(\"this is my testing message\")"
   ]
  },
  {
   "cell_type": "code",
   "execution_count": 1,
   "id": "391ffb52",
   "metadata": {},
   "outputs": [],
   "source": [
    "from langchain_google_genai import GoogleGenerativeAIEmbeddings\n",
    "embeddings = GoogleGenerativeAIEmbeddings(model=\"models/embedding-001\")"
   ]
  },
  {
   "cell_type": "code",
   "execution_count": 3,
   "id": "23b4a77b",
   "metadata": {},
   "outputs": [
    {
     "data": {
      "text/plain": [
       "768"
      ]
     },
     "execution_count": 3,
     "metadata": {},
     "output_type": "execute_result"
    }
   ],
   "source": [
    "len(embeddings.embed_query(\"hi my name is sunny\"))"
   ]
  },
  {
   "cell_type": "code",
   "execution_count": null,
   "id": "b48b927d",
   "metadata": {},
   "outputs": [],
   "source": [
    "384, 768,1024"
   ]
  },
  {
   "cell_type": "code",
   "execution_count": 1,
   "id": "3719b370",
   "metadata": {},
   "outputs": [],
   "source": [
    "from langchain_groq import ChatGroq"
   ]
  },
  {
   "cell_type": "code",
   "execution_count": 2,
   "id": "c2ee6ecc",
   "metadata": {},
   "outputs": [
    {
     "name": "stdout",
     "output_type": "stream",
     "text": [
      "content='<think>\\n\\n</think>\\n\\nHello! How can I assist you today? 😊' additional_kwargs={} response_metadata={'token_usage': {'completion_tokens': 16, 'prompt_tokens': 4, 'total_tokens': 20, 'completion_time': 0.089552862, 'prompt_time': 5.4859e-05, 'queue_time': 0.057310421, 'total_time': 0.089607721}, 'model_name': 'deepseek-r1-distill-llama-70b', 'system_fingerprint': 'fp_1bbe7845ec', 'finish_reason': 'stop', 'logprobs': None} id='run--eeb1fe2d-3b74-43ed-84aa-ed13b6ffeb81-0' usage_metadata={'input_tokens': 4, 'output_tokens': 16, 'total_tokens': 20}\n"
     ]
    }
   ],
   "source": [
    "groq_model=ChatGroq(model=\"deepseek-r1-distill-llama-70b\",api_key=\"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\")\n",
    "print(groq_model.invoke(\"hi\"))"
   ]
  },
  {
   "cell_type": "code",
   "execution_count": 1,
   "id": "593b7ebf",
   "metadata": {},
   "outputs": [
    {
     "name": "stderr",
     "output_type": "stream",
     "text": [
      "c:\\agentic-trading-bot\\env\\lib\\site-packages\\tqdm\\auto.py:21: TqdmWarning: IProgress not found. Please update jupyter and ipywidgets. See https://ipywidgets.readthedocs.io/en/stable/user_install.html\n",
      "  from .autonotebook import tqdm as notebook_tqdm\n"
     ]
    }
   ],
   "source": [
    "from langgraph.graph import StateGraph, START\n",
    "from langgraph.graph.message import add_messages\n",
    "from langgraph.prebuilt.tool_node import ToolNode, tools_condition\n",
    "#from langchain_core.messages import AIMessage, HumanMessage\n",
    "from typing_extensions import Annotated, TypedDict\n",
    "from utils.model_loaders import ModelLoader\n",
    "from toolkit.tools import *"
   ]
  },
  {
   "cell_type": "code",
   "execution_count": 10,
   "id": "88ab13ce",
   "metadata": {},
   "outputs": [],
   "source": [
    "from IPython.display import Image,display"
   ]
  },
  {
   "cell_type": "code",
   "execution_count": 2,
   "id": "e2dc0eb6",
   "metadata": {},
   "outputs": [],
   "source": [
    "class State(TypedDict):\n",
    "    messages: Annotated[list, add_messages]"
   ]
  },
  {
   "cell_type": "code",
   "execution_count": 11,
   "id": "14949cca",
   "metadata": {},
   "outputs": [],
   "source": [
    "class GraphBuilder:\n",
    "    def __init__(self):\n",
    "        self.model_loader=ModelLoader()\n",
    "        self.llm = self.model_loader.load_llm()\n",
    "        self.tools = [retriever_tool, financials_tool, tavilytool]\n",
    "        llm_with_tools = self.llm.bind_tools(tools=self.tools)\n",
    "        self.llm_with_tools = llm_with_tools\n",
    "        self.graph = None\n",
    "    \n",
    "    def _chatbot_node(self,state:State):\n",
    "         return {\"messages\": [self.llm_with_tools.invoke(state[\"messages\"])]}\n",
    "\n",
    "    def build(self):\n",
    "        graph_builder = StateGraph(State)\n",
    "        \n",
    "        graph_builder.add_node(\"chatbot\", self._chatbot_node)\n",
    "        \n",
    "        tool_node=ToolNode(tools=self.tools)\n",
    "        graph_builder.add_node(\"tools\", tool_node)\n",
    "        \n",
    "        graph_builder.add_conditional_edges(\"chatbot\", tools_condition)\n",
    "        graph_builder.add_edge(\"tools\", \"chatbot\")\n",
    "        graph_builder.add_edge(START, \"chatbot\")\n",
    "        \n",
    "        self.graph = graph_builder.compile()\n",
    "    \n",
    "    def visulize_graph(self):\n",
    "        display(Image(self.graph.get_graph().draw_mermaid_png()))\n",
    "        \n",
    "    def get_graph(self):\n",
    "        if self.graph is None:\n",
    "            raise ValueError(\"Graph not built. Call build() first.\")\n",
    "        return self.graph"
   ]
  },
  {
   "cell_type": "code",
   "execution_count": null,
   "id": "42169535",
   "metadata": {},
   "outputs": [
    {
     "name": "stdout",
     "output_type": "stream",
     "text": [
      "LLM loading...\n",
      "******this is my key*****\n",
      "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\n"
     ]
    },
    {
     "name": "stdout",
     "output_type": "stream",
     "text": [
      "content='<think>\\n\\n</think>\\n\\nHello! How can I assist you today? 😊' additional_kwargs={} response_metadata={'token_usage': {'completion_tokens': 16, 'prompt_tokens': 4, 'total_tokens': 20, 'completion_time': 0.094148856, 'prompt_time': 0.000331502, 'queue_time': 0.060759688, 'total_time': 0.094480358}, 'model_name': 'deepseek-r1-distill-llama-70b', 'system_fingerprint': 'fp_1bbe7845ec', 'finish_reason': 'stop', 'logprobs': None} id='run--4d7e2fa9-c7aa-4e37-bbf6-cddcb72146e7-0' usage_metadata={'input_tokens': 4, 'output_tokens': 16, 'total_tokens': 20}\n"
     ]
    }
   ],
   "source": [
    "graph_service = GraphBuilder()"
   ]
  },
  {
   "cell_type": "code",
   "execution_count": 13,
   "id": "36a50aaf",
   "metadata": {},
   "outputs": [],
   "source": [
    "graph_service.build()"
   ]
  },
  {
   "cell_type": "code",
   "execution_count": 14,
   "id": "07d76839",
   "metadata": {},
   "outputs": [],
   "source": [
    "graph = graph_service.get_graph()"
   ]
  },
  {
   "cell_type": "code",
   "execution_count": 15,
   "id": "3388f186",
   "metadata": {},
   "outputs": [
    {
     "data": {
      "image/png": "[encoded data removed]",
      "text/plain": [
       "<IPython.core.display.Image object>"
      ]
     },
     "metadata": {},
     "output_type": "display_data"
    }
   ],
   "source": [
    "graph_service.visulize_graph()"
   ]
  },
  {
   "cell_type": "code",
   "execution_count": 20,
   "id": "1f56d74c",
   "metadata": {},
   "outputs": [],
   "source": [
    "# Assuming request is a pydantic object like: {\"question\": \"your text\"}\n",
    "messages={\"messages\": \"can you give me a deep knowledge of the stock market?\"}"
   ]
  },
  {
   "cell_type": "code",
   "execution_count": 8,
   "id": "1366a03b",
   "metadata": {},
   "outputs": [],
   "source": [
    "result = graph.invoke(messages)"
   ]
  },
  {
   "cell_type": "code",
   "execution_count": 9,
   "id": "ab0fa470",
   "metadata": {},
   "outputs": [
    {
     "data": {
      "text/plain": [
       "{'messages': [HumanMessage(content='hi', additional_kwargs={}, response_metadata={}, id='0d0533e6-121a-4e8d-8352-541b83837a04'),\n",
       "  AIMessage(content='Hello! How can I assist you today?', additional_kwargs={}, response_metadata={'token_usage': {'completion_tokens': 81, 'prompt_tokens': 277, 'total_tokens': 358, 'completion_time': 0.42001359, 'prompt_time': 0.017794574, 'queue_time': 0.058765066, 'total_time': 0.437808164}, 'model_name': 'deepseek-r1-distill-llama-70b', 'system_fingerprint': 'fp_1bbe7845ec', 'finish_reason': 'stop', 'logprobs': None}, id='run--a251b67b-c148-4115-923d-31ca166cc287-0', usage_metadata={'input_tokens': 277, 'output_tokens': 81, 'total_tokens': 358})]}"
      ]
     },
     "execution_count": 9,
     "metadata": {},
     "output_type": "execute_result"
    }
   ],
   "source": [
    "result"
   ]
  },
  {
   "cell_type": "code",
   "execution_count": 18,
   "id": "58569a9c",
   "metadata": {},
   "outputs": [],
   "source": [
    "result = graph.invoke(messages)"
   ]
  },
  {
   "cell_type": "code",
   "execution_count": 19,
   "id": "77c495d2",
   "metadata": {},
   "outputs": [
    {
     "data": {
      "text/plain": [
       "{'messages': [HumanMessage(content='what is current stock price of adani greens?', additional_kwargs={}, response_metadata={}, id='c763bf0e-935a-4c77-8dd4-d34398c1c560'),\n",
       "  AIMessage(content='', additional_kwargs={'tool_calls': [{'id': 'call_xjjc', 'function': {'arguments': '{\"query\":\"ADANIGRENS.NS\"}', 'name': 'polygon_financials'}, 'type': 'function'}]}, response_metadata={'token_usage': {'completion_tokens': 121, 'prompt_tokens': 286, 'total_tokens': 407, 'completion_time': 0.595312003, 'prompt_time': 0.022073118, 'queue_time': 0.056713181, 'total_time': 0.617385121}, 'model_name': 'deepseek-r1-distill-llama-70b', 'system_fingerprint': 'fp_1bbe7845ec', 'finish_reason': 'tool_calls', 'logprobs': None}, id='run--7951bf63-f2e5-4804-a4e8-c9419434b50a-0', tool_calls=[{'name': 'polygon_financials', 'args': {'query': 'ADANIGRENS.NS'}, 'id': 'call_xjjc', 'type': 'tool_call'}], usage_metadata={'input_tokens': 286, 'output_tokens': 121, 'total_tokens': 407}),\n",
       "  ToolMessage(content='[]', name='polygon_financials', id='9315afa9-5b43-4a60-94d8-2e0189ba1923', tool_call_id='call_xjjc'),\n",
       "  AIMessage(content=\"The tool call was successfully made to fetch the latest financial data for Adani Greens ( ticker: ADANIGRENS.NS ). However, the output did not include the current stock price. If you're looking for the real-time stock price, I suggest checking a financial news website or a stock market tracking service. Let me know if you need any other financial data!\", additional_kwargs={}, response_metadata={'token_usage': {'completion_tokens': 268, 'prompt_tokens': 351, 'total_tokens': 619, 'completion_time': 1.175395479, 'prompt_time': 0.052826716, 'queue_time': 0.055048304, 'total_time': 1.228222195}, 'model_name': 'deepseek-r1-distill-llama-70b', 'system_fingerprint': 'fp_1bbe7845ec', 'finish_reason': 'stop', 'logprobs': None}, id='run--4101e7c7-2f36-42e9-887b-ee343b941cac-0', usage_metadata={'input_tokens': 351, 'output_tokens': 268, 'total_tokens': 619})]}"
      ]
     },
     "execution_count": 19,
     "metadata": {},
     "output_type": "execute_result"
    }
   ],
   "source": [
    "result"
   ]
  },
  {
   "cell_type": "code",
   "execution_count": 22,
   "id": "92c2c7ed",
   "metadata": {},
   "outputs": [
    {
     "name": "stdout",
     "output_type": "stream",
     "text": [
      "Loading Embedding model\n"
     ]
    }
   ],
   "source": [
    "result = graph.invoke(messages)"
   ]
  },
  {
   "cell_type": "code",
   "execution_count": null,
   "id": "0aa4c7c3",
   "metadata": {},
   "outputs": [],
   "source": []
  },
  {
   "cell_type": "code",
   "execution_count": 23,
   "id": "7c9fd2d7",
   "metadata": {},
   "outputs": [
    {
     "data": {
      "text/plain": [
       "{'messages': [HumanMessage(content='can you give me a deep knowledge of the stock market?', additional_kwargs={}, response_metadata={}, id='2c7bbc56-78a3-4379-9804-288d2d48dfd2'),\n",
       "  AIMessage(content='', additional_kwargs={'tool_calls': [{'id': 'call_yj42', 'function': {'arguments': '{\\n    \"question\": \"What is the stock market and how does it work?\"\\n  }', 'name': 'retriever_tool'}, 'type': 'function'}]}, response_metadata={'token_usage': {'completion_tokens': 301, 'prompt_tokens': 288, 'total_tokens': 589, 'completion_time': 1.442430998, 'prompt_time': 0.022415062, 'queue_time': 0.057704198, 'total_time': 1.46484606}, 'model_name': 'deepseek-r1-distill-llama-70b', 'system_fingerprint': 'fp_1bbe7845ec', 'finish_reason': 'tool_calls', 'logprobs': None}, id='run--f7f44d04-0905-4f97-b2da-397d1ee57c94-0', tool_calls=[{'name': 'retriever_tool', 'args': {'question': 'What is the stock market and how does it work?'}, 'id': 'call_yj42', 'type': 'tool_call'}], usage_metadata={'input_tokens': 288, 'output_tokens': 301, 'total_tokens': 589}),\n",
       "  ToolMessage(content=\"[Document(id='a8827221-eab3-44fe-baf2-040e4d16cd5d', metadata={'source': 'C:\\\\\\\\Users\\\\\\\\sunny\\\\\\\\AppData\\\\\\\\Local\\\\\\\\Temp\\\\\\\\tmp_5owtzhq.docx'}, page_content='Understand market mechanisms and terminology.\\\\n\\\\n\\\\n\\\\nBuild confidence in your decision-making.\\\\n\\\\n\\\\n\\\\nDevelop a personalised investment strategy.\\\\n\\\\n\\\\n\\\\nAvoid common mistakes and pitfalls.\\\\n\\\\n\\\\n\\\\n\\\\n\\\\nKnowledge empowers you to navigate volatile markets, identify promising opportunities, and align your investments with your financial goals.\\\\n\\\\n\\\\n\\\\n\\\\n\\\\n\\\\n\\\\nStep 1: Understand the Basics of the Stock Market\\\\n\\\\n\\\\n\\\\nBefore diving into complex strategies, it’s essential to grasp the fundamentals. Key concepts include:\\\\n\\\\n\\\\n\\\\nWhat is the Stock Market?\\\\n\\\\nThe stock market is a platform where shares of publicly traded companies are bought and sold. It enables companies to raise capital while providing investors with opportunities to earn returns.\\\\n\\\\n\\\\n\\\\n\\\\n\\\\nTypes of Investments\\\\n\\\\nLearn about various investment options, including:\\\\n\\\\n\\\\n\\\\n\\\\n\\\\n\\\\n\\\\nStocks: Ownership in a company, offering potential for capital gains and dividends.\\\\n\\\\n\\\\n\\\\nBonds: Fixed-income securities representing loans to companies or governments.'), Document(id='ce88826d-a002-410b-b18b-ff59e31964e4', metadata={'source': 'C:\\\\\\\\Users\\\\\\\\sunny\\\\\\\\AppData\\\\\\\\Local\\\\\\\\Temp\\\\\\\\tmpwvlt7o6_.docx'}, page_content='Understand market mechanisms and terminology.\\\\n\\\\n\\\\n\\\\nBuild confidence in your decision-making.\\\\n\\\\n\\\\n\\\\nDevelop a personalised investment strategy.\\\\n\\\\n\\\\n\\\\nAvoid common mistakes and pitfalls.\\\\n\\\\n\\\\n\\\\n\\\\n\\\\nKnowledge empowers you to navigate volatile markets, identify promising opportunities, and align your investments with your financial goals.\\\\n\\\\n\\\\n\\\\n\\\\n\\\\n\\\\n\\\\nStep 1: Understand the Basics of the Stock Market\\\\n\\\\n\\\\n\\\\nBefore diving into complex strategies, it’s essential to grasp the fundamentals. Key concepts include:\\\\n\\\\n\\\\n\\\\nWhat is the Stock Market?\\\\n\\\\nThe stock market is a platform where shares of publicly traded companies are bought and sold. It enables companies to raise capital while providing investors with opportunities to earn returns.\\\\n\\\\n\\\\n\\\\n\\\\n\\\\nTypes of Investments\\\\n\\\\nLearn about various investment options, including:\\\\n\\\\n\\\\n\\\\n\\\\n\\\\n\\\\n\\\\nStocks: Ownership in a company, offering potential for capital gains and dividends.\\\\n\\\\n\\\\n\\\\nBonds: Fixed-income securities representing loans to companies or governments.'), Document(id='94f1e624-6300-4ed5-9700-d7fa134e3e9f', metadata={'source': 'C:\\\\\\\\Users\\\\\\\\sunny\\\\\\\\AppData\\\\\\\\Local\\\\\\\\Temp\\\\\\\\tmprw969ajg.docx'}, page_content='Understand market mechanisms and terminology.\\\\n\\\\n\\\\n\\\\nBuild confidence in your decision-making.\\\\n\\\\n\\\\n\\\\nDevelop a personalised investment strategy.\\\\n\\\\n\\\\n\\\\nAvoid common mistakes and pitfalls.\\\\n\\\\n\\\\n\\\\n\\\\n\\\\nKnowledge empowers you to navigate volatile markets, identify promising opportunities, and align your investments with your financial goals.\\\\n\\\\n\\\\n\\\\n\\\\n\\\\n\\\\n\\\\nStep 1: Understand the Basics of the Stock Market\\\\n\\\\n\\\\n\\\\nBefore diving into complex strategies, it’s essential to grasp the fundamentals. Key concepts include:\\\\n\\\\n\\\\n\\\\nWhat is the Stock Market?\\\\n\\\\nThe stock market is a platform where shares of publicly traded companies are bought and sold. It enables companies to raise capital while providing investors with opportunities to earn returns.\\\\n\\\\n\\\\n\\\\n\\\\n\\\\nTypes of Investments\\\\n\\\\nLearn about various investment options, including:\\\\n\\\\n\\\\n\\\\n\\\\n\\\\n\\\\n\\\\nStocks: Ownership in a company, offering potential for capital gains and dividends.\\\\n\\\\n\\\\n\\\\nBonds: Fixed-income securities representing loans to companies or governments.')]\", name='retriever_tool', id='bf9148f0-16ec-4380-86d7-cbd500ca600c', tool_call_id='call_yj42'),\n",
       "  AIMessage(content='The stock market is a platform where shares of publicly traded companies are bought and sold. It enables companies to raise capital while providing investors with opportunities to earn returns. Key concepts include:\\n\\n- **Stocks**: Ownership in a company, offering potential for capital gains and dividends.\\n- **Bonds**: Fixed-income securities representing loans to companies or governments.\\n\\nWould you like me to provide more detailed information on specific aspects of the stock market?', additional_kwargs={}, response_metadata={'token_usage': {'completion_tokens': 212, 'prompt_tokens': 1166, 'total_tokens': 1378, 'completion_time': 0.821731283, 'prompt_time': 0.103646044, 'queue_time': 2.178161097, 'total_time': 0.925377327}, 'model_name': 'deepseek-r1-distill-llama-70b', 'system_fingerprint': 'fp_1bbe7845ec', 'finish_reason': 'stop', 'logprobs': None}, id='run--69764171-b180-4ffe-9829-392aad541732-0', usage_metadata={'input_tokens': 1166, 'output_tokens': 212, 'total_tokens': 1378})]}"
      ]
     },
     "execution_count": 23,
     "metadata": {},
     "output_type": "execute_result"
    }
   ],
   "source": [
    "result"
   ]
  },
  {
   "cell_type": "code",
   "execution_count": null,
   "id": "04ad2044",
   "metadata": {},
   "outputs": [],
   "source": []
  }
 ],
 "metadata": {
  "kernelspec": {
   "display_name": "Python 3",
   "language": "python",
   "name": "python3"
  },
  "language_info": {
   "codemirror_mode": {
    "name": "ipython",
    "version": 3
   },
   "file_extension": ".py",
   "mimetype": "text/x-python",
   "name": "python",
   "nbconvert_exporter": "python",
   "pygments_lexer": "ipython3",
   "version": "3.10.16"
  }
 },
 "nbformat": 4,
 "nbformat_minor": 5
}
